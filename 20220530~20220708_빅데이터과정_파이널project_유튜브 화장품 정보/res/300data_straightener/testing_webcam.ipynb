{
 "cells": [
  {
   "cell_type": "code",
   "execution_count": null,
   "id": "3ac91438",
   "metadata": {},
   "outputs": [
    {
     "name": "stdout",
     "output_type": "stream",
     "text": [
      "OCR_productLogo_VodanaStraightner(in local).ipynb\n",
      "res\n",
      "testing_webcam.ipynb\n",
      "yolov5\n",
      "C:\\Users\\admin\\anaconda envs folders\\easyocr_afterDectection\\yolov5\n"
     ]
    }
   ],
   "source": [
    "# object dectection by YOLO\n",
    "!ls\n",
    "\n",
    "# change current directory\n",
    "\n",
    "import os\n",
    "os.chdir(\"./yolov5\")\n",
    "\n",
    "path = os.getcwd()\n",
    "print(path)\n",
    "\n",
    "# detect on webcam\n",
    "!python detect.py --source 0"
   ]
  },
  {
   "cell_type": "code",
   "execution_count": null,
   "id": "0406ad6b",
   "metadata": {},
   "outputs": [],
   "source": []
  }
 ],
 "metadata": {
  "kernelspec": {
   "display_name": "Python 3 (ipykernel)",
   "language": "python",
   "name": "python3"
  },
  "language_info": {
   "codemirror_mode": {
    "name": "ipython",
    "version": 3
   },
   "file_extension": ".py",
   "mimetype": "text/x-python",
   "name": "python",
   "nbconvert_exporter": "python",
   "pygments_lexer": "ipython3",
   "version": "3.8.13"
  }
 },
 "nbformat": 4,
 "nbformat_minor": 5
}
