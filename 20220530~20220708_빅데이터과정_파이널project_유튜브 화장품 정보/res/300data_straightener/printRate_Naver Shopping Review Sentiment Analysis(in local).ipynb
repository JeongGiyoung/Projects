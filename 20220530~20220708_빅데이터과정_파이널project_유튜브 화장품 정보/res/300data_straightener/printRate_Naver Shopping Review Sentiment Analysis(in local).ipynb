{
 "cells": [
  {
   "cell_type": "markdown",
   "id": "7b267070",
   "metadata": {},
   "source": [
    "# # mecab 설치\n",
    "  * https://velog.io/@jyong0719/konlpy-mecab-%EC%84%A4%EC%B9%98-window\n",
    "  * python 버전 3.8까지 지원\n",
    "    - 이를 위해서 downgrade도 감행해야함"
   ]
  },
  {
   "cell_type": "code",
   "execution_count": 1,
   "id": "f07487cd",
   "metadata": {},
   "outputs": [],
   "source": [
    "import re\n",
    "import pandas as pd\n",
    "import numpy as np\n",
    "import matplotlib.pyplot as plt\n",
    "import urllib.request\n",
    "from collections import Counter\n",
    "from konlpy.tag import Mecab\n",
    "from sklearn.model_selection import train_test_split\n",
    "from tensorflow.keras.preprocessing.text import Tokenizer\n",
    "from tensorflow.keras.preprocessing.sequence import pad_sequences"
   ]
  },
  {
   "cell_type": "code",
   "execution_count": 2,
   "id": "3ac56b63",
   "metadata": {},
   "outputs": [],
   "source": [
    "mecab = Mecab('C:/mecab/mecab-ko-dic')"
   ]
  },
  {
   "cell_type": "code",
   "execution_count": 3,
   "id": "148fef4f",
   "metadata": {},
   "outputs": [
    {
     "name": "stdout",
     "output_type": "stream",
     "text": [
      "(clone)Naver Shopping Review Sentiment Analysis(on local on local for prediction).ipynb\n",
      "printRate_Naver Shopping Review Sentiment Analysis(in local).ipynb\n",
      "ratings_total.txt\n",
      "shortVersion_printRateOfSentimentOfReview.ipynb\n"
     ]
    }
   ],
   "source": [
    "!ls"
   ]
  },
  {
   "cell_type": "code",
   "execution_count": 4,
   "id": "6bbdb4e9",
   "metadata": {},
   "outputs": [
    {
     "data": {
      "text/plain": [
       "('ratings_total.txt', <http.client.HTTPMessage at 0x2593ab43d90>)"
      ]
     },
     "execution_count": 4,
     "metadata": {},
     "output_type": "execute_result"
    }
   ],
   "source": [
    "urllib.request.urlretrieve(\"https://raw.githubusercontent.com/bab2min/corpus/master/sentiment/naver_shopping.txt\", filename=\"ratings_total.txt\")"
   ]
  },
  {
   "cell_type": "code",
   "execution_count": 5,
   "id": "2a45014b",
   "metadata": {},
   "outputs": [],
   "source": [
    "total_data = pd.read_table('ratings_total.txt', names=['ratings', 'reviews'])"
   ]
  },
  {
   "cell_type": "code",
   "execution_count": 6,
   "id": "5ed9ae59",
   "metadata": {},
   "outputs": [],
   "source": [
    "total_data['label'] = np.select([total_data.ratings > 3], [1], default=0)"
   ]
  },
  {
   "cell_type": "code",
   "execution_count": 7,
   "id": "1f180881",
   "metadata": {},
   "outputs": [],
   "source": [
    "total_data.drop_duplicates(subset=['reviews'], inplace=True) # reviews 열에서 중복인 내용이 있다면 중복 제거"
   ]
  },
  {
   "cell_type": "code",
   "execution_count": 8,
   "id": "0c28b063",
   "metadata": {},
   "outputs": [
    {
     "name": "stdout",
     "output_type": "stream",
     "text": [
      "Review data for training : 149931\n",
      "Review data for testing : 49977\n"
     ]
    }
   ],
   "source": [
    "train_data, test_data = train_test_split(total_data, test_size = 0.25, random_state = 42)\n",
    "print('Review data for training :', len(train_data))\n",
    "print('Review data for testing :', len(test_data))"
   ]
  },
  {
   "cell_type": "code",
   "execution_count": 9,
   "id": "0b135f9b",
   "metadata": {},
   "outputs": [
    {
     "name": "stdout",
     "output_type": "stream",
     "text": [
      "ratings    0\n",
      "reviews    0\n",
      "label      0\n",
      "dtype: int64\n"
     ]
    },
    {
     "name": "stderr",
     "output_type": "stream",
     "text": [
      "<ipython-input-9-5c91c21161d5>:2: FutureWarning: The default value of regex will change from True to False in a future version.\n",
      "  train_data['reviews'] = train_data['reviews'].str.replace(\"[^ㄱ-ㅎㅏ-ㅣ가-힣 ]\",\"\")\n"
     ]
    }
   ],
   "source": [
    "# 한글과 공백을 제외하고 모두 제거\n",
    "train_data['reviews'] = train_data['reviews'].str.replace(\"[^ㄱ-ㅎㅏ-ㅣ가-힣 ]\",\"\")\n",
    "train_data['reviews'].replace('', np.nan, inplace=True)\n",
    "print(train_data.isnull().sum())"
   ]
  },
  {
   "cell_type": "code",
   "execution_count": 10,
   "id": "e96357eb",
   "metadata": {},
   "outputs": [
    {
     "name": "stdout",
     "output_type": "stream",
     "text": [
      "Number of samples for testing after preprocessing : 49977\n"
     ]
    },
    {
     "name": "stderr",
     "output_type": "stream",
     "text": [
      "<ipython-input-10-3b3c74c8720c>:2: FutureWarning: The default value of regex will change from True to False in a future version.\n",
      "  test_data['reviews'] = test_data['reviews'].str.replace(\"[^ㄱ-ㅎㅏ-ㅣ가-힣 ]\",\"\") # 정규 표현식 수행\n"
     ]
    }
   ],
   "source": [
    "test_data.drop_duplicates(subset = ['reviews'], inplace=True)\n",
    "test_data['reviews'] = test_data['reviews'].str.replace(\"[^ㄱ-ㅎㅏ-ㅣ가-힣 ]\",\"\") # 정규 표현식 수행\n",
    "test_data['reviews'].replace('', np.nan, inplace=True)\n",
    "test_data = test_data.dropna(how='any') # \n",
    "print('Number of samples for testing after preprocessing :',len(test_data))"
   ]
  },
  {
   "cell_type": "code",
   "execution_count": 11,
   "id": "9c30dea0",
   "metadata": {},
   "outputs": [
    {
     "name": "stdout",
     "output_type": "stream",
     "text": [
      "['와', '이런', '것', '도', '상품', '이', '라고', '차라리', '내', '가', '만드', '는', '게', '나을', '뻔']\n"
     ]
    }
   ],
   "source": [
    "print(mecab.morphs('와 이런 것도 상품이라고 차라리 내가 만드는 게 나을 뻔'))"
   ]
  },
  {
   "cell_type": "code",
   "execution_count": 12,
   "id": "a2b6727b",
   "metadata": {},
   "outputs": [],
   "source": [
    "stopwords = ['도', '는', '다', '의', '가', '이', '은', '한', '에', '하', '고', '을', '를', '인', '듯', '과', '와', '네', '들', '듯', '지', '임', '게']"
   ]
  },
  {
   "cell_type": "code",
   "execution_count": 13,
   "id": "a86585c7",
   "metadata": {},
   "outputs": [],
   "source": [
    "train_data['tokenized'] = train_data['reviews'].apply(mecab.morphs)\n",
    "train_data['tokenized'] = train_data['tokenized'].apply(lambda x: [item for item in x if item not in stopwords])"
   ]
  },
  {
   "cell_type": "code",
   "execution_count": 14,
   "id": "3d2510a6",
   "metadata": {},
   "outputs": [],
   "source": [
    "test_data['tokenized'] = test_data['reviews'].apply(mecab.morphs)\n",
    "test_data['tokenized'] = test_data['tokenized'].apply(lambda x: [item for item in x if item not in stopwords])"
   ]
  },
  {
   "cell_type": "code",
   "execution_count": 15,
   "id": "bb432f18",
   "metadata": {},
   "outputs": [],
   "source": [
    "negative_words = np.hstack(train_data[train_data.label == 0]['tokenized'].values)\n",
    "positive_words = np.hstack(train_data[train_data.label == 1]['tokenized'].values)"
   ]
  },
  {
   "cell_type": "code",
   "execution_count": 16,
   "id": "8edfe394",
   "metadata": {},
   "outputs": [
    {
     "name": "stdout",
     "output_type": "stream",
     "text": [
      "[('네요', 31799), ('는데', 20295), ('안', 19718), ('어요', 14849), ('있', 13200), ('너무', 13058), ('했', 11783), ('좋', 9812), ('배송', 9677), ('같', 8997), ('구매', 8876), ('어', 8869), ('거', 8854), ('없', 8670), ('아요', 8642), ('습니다', 8436), ('그냥', 8355), ('되', 8345), ('잘', 8029), ('않', 7984)]\n"
     ]
    }
   ],
   "source": [
    "negative_word_count = Counter(negative_words)\n",
    "print(negative_word_count.most_common(20))"
   ]
  },
  {
   "cell_type": "code",
   "execution_count": 17,
   "id": "4624838f",
   "metadata": {},
   "outputs": [
    {
     "name": "stdout",
     "output_type": "stream",
     "text": [
      "[('좋', 39488), ('아요', 21184), ('네요', 19895), ('어요', 18686), ('잘', 18602), ('구매', 16171), ('습니다', 13320), ('있', 12391), ('배송', 12275), ('는데', 11670), ('했', 9818), ('합니다', 9801), ('먹', 9635), ('재', 9273), ('너무', 8397), ('같', 7868), ('만족', 7261), ('거', 6482), ('어', 6294), ('쓰', 6292)]\n"
     ]
    }
   ],
   "source": [
    "positive_word_count = Counter(positive_words)\n",
    "print(positive_word_count.most_common(20))"
   ]
  },
  {
   "cell_type": "code",
   "execution_count": 18,
   "id": "3847d4db",
   "metadata": {},
   "outputs": [],
   "source": [
    "X_train = train_data['tokenized'].values\n",
    "y_train = train_data['label'].values\n",
    "X_test= test_data['tokenized'].values\n",
    "y_test = test_data['label'].values"
   ]
  },
  {
   "cell_type": "code",
   "execution_count": 19,
   "id": "d7421bdc",
   "metadata": {},
   "outputs": [],
   "source": [
    "tokenizer = Tokenizer()\n",
    "tokenizer.fit_on_texts(X_train)"
   ]
  },
  {
   "cell_type": "code",
   "execution_count": 20,
   "id": "b47ef67d",
   "metadata": {},
   "outputs": [
    {
     "name": "stdout",
     "output_type": "stream",
     "text": [
      "Vocabulary size(단어 집합 크기) : 39998\n",
      "number of rare words which appear under one time(등장 빈도가 1번 이하인 희귀 단어의 수): 18213\n",
      "rate of rare words in the vocabulary(단어 집합에서 희귀 단어의 비율): 45.53477673883694\n",
      "rate of appearance frequency of rare words in total appearance frequency(전체 등장 빈도에서 희귀 단어 등장 빈도 비율): 0.793569529160946\n"
     ]
    }
   ],
   "source": [
    "threshold = 2\n",
    "total_cnt = len(tokenizer.word_index) # 단어의 수\n",
    "rare_cnt = 0 # 등장 빈도수가 threshold보다 작은 단어의 개수를 카운트\n",
    "total_freq = 0 # 훈련 데이터의 전체 단어 빈도수 총 합\n",
    "rare_freq = 0 # 등장 빈도수가 threshold보다 작은 단어의 등장 빈도수의 총 합\n",
    "\n",
    "# 단어와 빈도수의 쌍(pair)을 key와 value로 받는다.\n",
    "for key, value in tokenizer.word_counts.items():\n",
    "    total_freq = total_freq + value\n",
    "\n",
    "    # 단어의 등장 빈도수가 threshold보다 작으면\n",
    "    if(value < threshold):\n",
    "        rare_cnt = rare_cnt + 1\n",
    "        rare_freq = rare_freq + value\n",
    "\n",
    "print('Vocabulary size(단어 집합 크기) :',total_cnt)\n",
    "print('number of rare words which appear under one time(등장 빈도가 %s번 이하인 희귀 단어의 수): %s'%(threshold - 1, rare_cnt))\n",
    "print(\"rate of rare words in the vocabulary(단어 집합에서 희귀 단어의 비율):\", (rare_cnt / total_cnt)*100)\n",
    "print(\"rate of appearance frequency of rare words in total appearance frequency(전체 등장 빈도에서 희귀 단어 등장 빈도 비율):\", (rare_freq / total_freq)*100)"
   ]
  },
  {
   "cell_type": "code",
   "execution_count": 21,
   "id": "29eba155",
   "metadata": {},
   "outputs": [
    {
     "name": "stdout",
     "output_type": "stream",
     "text": [
      "size of the vocabulary(단어 집합의 크기) : 21787\n"
     ]
    }
   ],
   "source": [
    "# 전체 단어 개수 중 빈도수 2이하인 단어 개수는 제거.\n",
    "# 0번 패딩 토큰과 1번 OOV 토큰을 고려하여 +2\n",
    "vocab_size = total_cnt - rare_cnt + 2\n",
    "print('size of the vocabulary(단어 집합의 크기) :',vocab_size)"
   ]
  },
  {
   "cell_type": "code",
   "execution_count": 22,
   "id": "fdab0fc1",
   "metadata": {},
   "outputs": [],
   "source": [
    "tokenizer = Tokenizer(vocab_size, oov_token = 'OOV') \n",
    "tokenizer.fit_on_texts(X_train)\n",
    "X_train = tokenizer.texts_to_sequences(X_train)\n",
    "X_test = tokenizer.texts_to_sequences(X_test)"
   ]
  },
  {
   "cell_type": "code",
   "execution_count": 23,
   "id": "055003db",
   "metadata": {},
   "outputs": [
    {
     "name": "stdout",
     "output_type": "stream",
     "text": [
      "리뷰의 최대 길이 : 85\n",
      "리뷰의 평균 길이 : 15.307528129606286\n"
     ]
    },
    {
     "data": {
      "image/png": "[encoded data removed]",
      "text/plain": [
       "<Figure size 432x288 with 1 Axes>"
      ]
     },
     "metadata": {
      "needs_background": "light"
     },
     "output_type": "display_data"
    }
   ],
   "source": [
    "print('리뷰의 최대 길이 :',max(len(review) for review in X_train))\n",
    "print('리뷰의 평균 길이 :',sum(map(len, X_train))/len(X_train))\n",
    "plt.hist([len(review) for review in X_train], bins=50)\n",
    "plt.xlabel('length of samples')\n",
    "plt.ylabel('number of samples')\n",
    "plt.show()"
   ]
  },
  {
   "cell_type": "code",
   "execution_count": 24,
   "id": "616cfc8c",
   "metadata": {},
   "outputs": [],
   "source": [
    "def below_threshold_len(max_len, nested_list):\n",
    "  count = 0\n",
    "  for sentence in nested_list:\n",
    "    if(len(sentence) <= max_len):\n",
    "        count = count + 1\n",
    "  print('전체 샘플 중 길이가 %s 이하인 샘플의 비율: %s'%(max_len, (count / len(nested_list))*100))"
   ]
  },
  {
   "cell_type": "code",
   "execution_count": 25,
   "id": "e5f583dc",
   "metadata": {},
   "outputs": [
    {
     "name": "stdout",
     "output_type": "stream",
     "text": [
      "전체 샘플 중 길이가 80 이하인 샘플의 비율: 99.99933302652553\n"
     ]
    }
   ],
   "source": [
    "max_len = 80\n",
    "below_threshold_len(max_len, X_train)"
   ]
  },
  {
   "cell_type": "code",
   "execution_count": 26,
   "id": "2972074b",
   "metadata": {},
   "outputs": [],
   "source": [
    "X_train = pad_sequences(X_train, maxlen=max_len)\n",
    "X_test = pad_sequences(X_test, maxlen=max_len)"
   ]
  },
  {
   "cell_type": "code",
   "execution_count": 27,
   "id": "630e00e7",
   "metadata": {},
   "outputs": [],
   "source": [
    "from tensorflow.keras.models import load_model"
   ]
  },
  {
   "cell_type": "code",
   "execution_count": 29,
   "id": "b73a7ca2",
   "metadata": {},
   "outputs": [],
   "source": [
    "path = \"C:/Sources/Projects/빅데이터과정_파이널project_유튜브 화장품 정보/res/300data_straightener/result/sensitivityAnalysis/sensitivityAnalysis_best_model_forNavershopping_Review.h5\"\n",
    "loaded_model = load_model(path)"
   ]
  },
  {
   "cell_type": "code",
   "execution_count": 30,
   "id": "3633a676",
   "metadata": {},
   "outputs": [],
   "source": [
    "def sentiment_predict(new_sentence):\n",
    "  new_sentence = re.sub(r'[^ㄱ-ㅎㅏ-ㅣ가-힣 ]','', new_sentence)\n",
    "  new_sentence = mecab.morphs(new_sentence)\n",
    "  new_sentence = [word for word in new_sentence if not word in stopwords]\n",
    "  encoded = tokenizer.texts_to_sequences([new_sentence])\n",
    "  pad_new = pad_sequences(encoded, maxlen = max_len)\n",
    "\n",
    "  score = float(loaded_model.predict(pad_new\n",
    "                                    # , verbose = 0 # 진행상황을 보여줄 형식\n",
    "                                     ## 출처 : https://www.tensorflow.org/api_docs/python/tf/keras/Model\n",
    "                                    ))\n",
    "  if(score > 0.5):\n",
    "    print(\"{:.2f}% 확률로 긍정 리뷰입니다.\".format(score * 100))\n",
    "  else:\n",
    "    print(\"{:.2f}% 확률로 부정 리뷰입니다.\".format((1 - score) * 100))"
   ]
  },
  {
   "cell_type": "code",
   "execution_count": 31,
   "id": "7278fd42",
   "metadata": {},
   "outputs": [
    {
     "name": "stdout",
     "output_type": "stream",
     "text": [
      "1/1 [==============================] - 0s 312ms/step\n"
     ]
    },
    {
     "data": {
      "text/plain": [
       "array([[0.9779813]], dtype=float32)"
      ]
     },
     "execution_count": 31,
     "metadata": {},
     "output_type": "execute_result"
    }
   ],
   "source": [
    "new_sentence = '이 상품 진짜 좋아요... 저는 강추합니다. 대박'\n",
    "new_sentence = re.sub(r'[^ㄱ-ㅎㅏ-ㅣ가-힣 ]','', new_sentence)\n",
    "new_sentence = mecab.morphs(new_sentence)\n",
    "new_sentence = [word for word in new_sentence if not word in stopwords]\n",
    "encoded = tokenizer.texts_to_sequences([new_sentence])\n",
    "pad_new = pad_sequences(encoded, maxlen = max_len)\n",
    "loaded_model.predict(pad_new)"
   ]
  },
  {
   "cell_type": "code",
   "execution_count": 32,
   "id": "55ef10f6",
   "metadata": {},
   "outputs": [
    {
     "name": "stdout",
     "output_type": "stream",
     "text": [
      "1/1 [==============================] - 0s 17ms/step\n",
      "97.80% 확률로 긍정 리뷰입니다.\n"
     ]
    }
   ],
   "source": [
    "sentiment_predict('이 상품 진짜 좋아요... 저는 강추합니다. 대박')"
   ]
  },
  {
   "cell_type": "markdown",
   "id": "13e4004d",
   "metadata": {},
   "source": [
    "# # load 'naverReview_VodanaStraightner_blue40' file"
   ]
  },
  {
   "cell_type": "code",
   "execution_count": 34,
   "id": "0133d439",
   "metadata": {},
   "outputs": [
    {
     "data": {
      "text/html": [
       "<div>\n",
       "<style scoped>\n",
       "    .dataframe tbody tr th:only-of-type {\n",
       "        vertical-align: middle;\n",
       "    }\n",
       "\n",
       "    .dataframe tbody tr th {\n",
       "        vertical-align: top;\n",
       "    }\n",
       "\n",
       "    .dataframe thead th {\n",
       "        text-align: right;\n",
       "    }\n",
       "</style>\n",
       "<table border=\"1\" class=\"dataframe\">\n",
       "  <thead>\n",
       "    <tr style=\"text-align: right;\">\n",
       "      <th></th>\n",
       "      <th>Unnamed: 0</th>\n",
       "      <th>type</th>\n",
       "      <th>category</th>\n",
       "      <th>review</th>\n",
       "      <th>star</th>\n",
       "    </tr>\n",
       "  </thead>\n",
       "  <tbody>\n",
       "    <tr>\n",
       "      <th>0</th>\n",
       "      <td>1</td>\n",
       "      <td>보다나 트리플 플로우 물결 고데기 크리미블루 40형</td>\n",
       "      <td>별점</td>\n",
       "      <td>보다나 고데기 신세계네요. 머리가 깔\\n보다나 고데기 신세계네요. 머리가 깔끔하게 ...</td>\n",
       "      <td>평점5</td>\n",
       "    </tr>\n",
       "    <tr>\n",
       "      <th>1</th>\n",
       "      <td>2</td>\n",
       "      <td>보다나 트리플 플로우 물결 고데기 크리미블루 40형</td>\n",
       "      <td>별점</td>\n",
       "      <td>평소 보다나 덕후라 이번에 보다나에서 물결고데기가 나왔다는 소식을 듣고 얼른~! 4...</td>\n",
       "      <td>평점5</td>\n",
       "    </tr>\n",
       "    <tr>\n",
       "      <th>2</th>\n",
       "      <td>3</td>\n",
       "      <td>보다나 트리플 플로우 물결 고데기 크리미블루 40형</td>\n",
       "      <td>별점</td>\n",
       "      <td>고데기는 전부 보다나제품으로 가지고있어요판고데기,봉고데기36mm 로 가지고있는데 물...</td>\n",
       "      <td>평점5</td>\n",
       "    </tr>\n",
       "    <tr>\n",
       "      <th>3</th>\n",
       "      <td>4</td>\n",
       "      <td>보다나 트리플 플로우 물결 고데기 크리미블루 40형</td>\n",
       "      <td>별점</td>\n",
       "      <td>한달 후기를 쓰자면제가 기존에 산 스프링 컬렉션 &gt;초록색은지금 나온 파란색보다 무거...</td>\n",
       "      <td>평점5</td>\n",
       "    </tr>\n",
       "    <tr>\n",
       "      <th>4</th>\n",
       "      <td>5</td>\n",
       "      <td>보다나 트리플 플로우 물결 고데기 크리미블루 40형</td>\n",
       "      <td>별점</td>\n",
       "      <td>예전부터 갖고싶어서 눈여겨보다 보통 고데기에 비해 가격이 좀 부담되어 미루다 이번에...</td>\n",
       "      <td>평점5</td>\n",
       "    </tr>\n",
       "    <tr>\n",
       "      <th>...</th>\n",
       "      <td>...</td>\n",
       "      <td>...</td>\n",
       "      <td>...</td>\n",
       "      <td>...</td>\n",
       "      <td>...</td>\n",
       "    </tr>\n",
       "    <tr>\n",
       "      <th>95</th>\n",
       "      <td>96</td>\n",
       "      <td>보다나 트리플 플로우 물결 고데기 크리미블루 40형</td>\n",
       "      <td>별점</td>\n",
       "      <td>처음엔 좀 어색했는데 두번째부터는 잘하고있어요~~ 예쁘게 물결웨이브 쉽게하게되어서 ...</td>\n",
       "      <td>평점5</td>\n",
       "    </tr>\n",
       "    <tr>\n",
       "      <th>96</th>\n",
       "      <td>97</td>\n",
       "      <td>보다나 트리플 플로우 물결 고데기 크리미블루 40형</td>\n",
       "      <td>별점</td>\n",
       "      <td>평이좋아서구매해봤는데색상이나배송도빠르고넘맘에드네여 ㅎ똥손이라서잘사용할거같아여 ㅎ\\n...</td>\n",
       "      <td>평점5</td>\n",
       "    </tr>\n",
       "    <tr>\n",
       "      <th>97</th>\n",
       "      <td>98</td>\n",
       "      <td>보다나 트리플 플로우 물결 고데기 크리미블루 40형</td>\n",
       "      <td>별점</td>\n",
       "      <td>진짜 쉬워요. 긴머린데 다 하는데 10분정도 걸리고 요령 없어도 잘 되던데 저는 너...</td>\n",
       "      <td>평점5</td>\n",
       "    </tr>\n",
       "    <tr>\n",
       "      <th>98</th>\n",
       "      <td>99</td>\n",
       "      <td>보다나 트리플 플로우 물결 고데기 크리미블루 40형</td>\n",
       "      <td>별점</td>\n",
       "      <td>제가 똥손이라그런지 모양이예쁘게안나오네요 ㅠㅠ 연습좀해봐야겠습니다.. 제품자체는좋아...</td>\n",
       "      <td>평점5</td>\n",
       "    </tr>\n",
       "    <tr>\n",
       "      <th>99</th>\n",
       "      <td>100</td>\n",
       "      <td>보다나 트리플 플로우 물결 고데기 크리미블루 40형</td>\n",
       "      <td>별점</td>\n",
       "      <td>받자말자 테스트해보니 이쁘게나오는것같은데 단발머리하기에 손에 만이 익혀야될듯싶습니다...</td>\n",
       "      <td>평점5</td>\n",
       "    </tr>\n",
       "  </tbody>\n",
       "</table>\n",
       "<p>100 rows × 5 columns</p>\n",
       "</div>"
      ],
      "text/plain": [
       "    Unnamed: 0                          type category  \\\n",
       "0            1  보다나 트리플 플로우 물결 고데기 크리미블루 40형       별점   \n",
       "1            2  보다나 트리플 플로우 물결 고데기 크리미블루 40형       별점   \n",
       "2            3  보다나 트리플 플로우 물결 고데기 크리미블루 40형       별점   \n",
       "3            4  보다나 트리플 플로우 물결 고데기 크리미블루 40형       별점   \n",
       "4            5  보다나 트리플 플로우 물결 고데기 크리미블루 40형       별점   \n",
       "..         ...                           ...      ...   \n",
       "95          96  보다나 트리플 플로우 물결 고데기 크리미블루 40형       별점   \n",
       "96          97  보다나 트리플 플로우 물결 고데기 크리미블루 40형       별점   \n",
       "97          98  보다나 트리플 플로우 물결 고데기 크리미블루 40형       별점   \n",
       "98          99  보다나 트리플 플로우 물결 고데기 크리미블루 40형       별점   \n",
       "99         100  보다나 트리플 플로우 물결 고데기 크리미블루 40형       별점   \n",
       "\n",
       "                                               review star  \n",
       "0   보다나 고데기 신세계네요. 머리가 깔\\n보다나 고데기 신세계네요. 머리가 깔끔하게 ...  평점5  \n",
       "1   평소 보다나 덕후라 이번에 보다나에서 물결고데기가 나왔다는 소식을 듣고 얼른~! 4...  평점5  \n",
       "2   고데기는 전부 보다나제품으로 가지고있어요판고데기,봉고데기36mm 로 가지고있는데 물...  평점5  \n",
       "3   한달 후기를 쓰자면제가 기존에 산 스프링 컬렉션 >초록색은지금 나온 파란색보다 무거...  평점5  \n",
       "4   예전부터 갖고싶어서 눈여겨보다 보통 고데기에 비해 가격이 좀 부담되어 미루다 이번에...  평점5  \n",
       "..                                                ...  ...  \n",
       "95  처음엔 좀 어색했는데 두번째부터는 잘하고있어요~~ 예쁘게 물결웨이브 쉽게하게되어서 ...  평점5  \n",
       "96  평이좋아서구매해봤는데색상이나배송도빠르고넘맘에드네여 ㅎ똥손이라서잘사용할거같아여 ㅎ\\n...  평점5  \n",
       "97  진짜 쉬워요. 긴머린데 다 하는데 10분정도 걸리고 요령 없어도 잘 되던데 저는 너...  평점5  \n",
       "98  제가 똥손이라그런지 모양이예쁘게안나오네요 ㅠㅠ 연습좀해봐야겠습니다.. 제품자체는좋아...  평점5  \n",
       "99  받자말자 테스트해보니 이쁘게나오는것같은데 단발머리하기에 손에 만이 익혀야될듯싶습니다...  평점5  \n",
       "\n",
       "[100 rows x 5 columns]"
      ]
     },
     "execution_count": 34,
     "metadata": {},
     "output_type": "execute_result"
    }
   ],
   "source": [
    "tmp = pd.read_csv('C:/Sources/Projects/빅데이터과정_파이널project_유튜브 화장품 정보/res/300data_straightener/result/sensitivityAnalysis/crawledData_naverReviews_VodanaStraightner_blue40.csv')\n",
    "tmp"
   ]
  },
  {
   "cell_type": "markdown",
   "id": "7daf7b79",
   "metadata": {},
   "source": [
    "# # print rates of positive and negative reviews\n",
    "  * positive %\n",
    "  * negative %"
   ]
  },
  {
   "cell_type": "code",
   "execution_count": 35,
   "id": "83ede1cb",
   "metadata": {},
   "outputs": [],
   "source": [
    "def sentiment_predict_NaverShoppingReviews(new_sentence):\n",
    "  new_sentence = re.sub(r'[^ㄱ-ㅎㅏ-ㅣ가-힣 ]','', new_sentence)\n",
    "  new_sentence = mecab.morphs(new_sentence)\n",
    "  new_sentence = [word for word in new_sentence if not word in stopwords]\n",
    "  encoded = tokenizer.texts_to_sequences([new_sentence])\n",
    "  pad_new = pad_sequences(encoded, maxlen = max_len)\n",
    "\n",
    "  score = float(loaded_model.predict(pad_new))\n",
    "\n",
    "  if(score > 0.5):\n",
    "    positive_reviews.append(score)\n",
    "  else:\n",
    "    negative_reviews.append(score)\n",
    "  \n",
    "  return positive_reviews, negative_reviews"
   ]
  },
  {
   "cell_type": "code",
   "execution_count": 36,
   "id": "8f335059",
   "metadata": {},
   "outputs": [
    {
     "data": {
      "text/plain": [
       "0     보다나 고데기 신세계네요. 머리가 깔\\n보다나 고데기 신세계네요. 머리가 깔끔하게 ...\n",
       "1     평소 보다나 덕후라 이번에 보다나에서 물결고데기가 나왔다는 소식을 듣고 얼른~! 4...\n",
       "2     고데기는 전부 보다나제품으로 가지고있어요판고데기,봉고데기36mm 로 가지고있는데 물...\n",
       "3     한달 후기를 쓰자면제가 기존에 산 스프링 컬렉션 >초록색은지금 나온 파란색보다 무거...\n",
       "4     예전부터 갖고싶어서 눈여겨보다 보통 고데기에 비해 가격이 좀 부담되어 미루다 이번에...\n",
       "                            ...                        \n",
       "95    처음엔 좀 어색했는데 두번째부터는 잘하고있어요~~ 예쁘게 물결웨이브 쉽게하게되어서 ...\n",
       "96    평이좋아서구매해봤는데색상이나배송도빠르고넘맘에드네여 ㅎ똥손이라서잘사용할거같아여 ㅎ\\n...\n",
       "97    진짜 쉬워요. 긴머린데 다 하는데 10분정도 걸리고 요령 없어도 잘 되던데 저는 너...\n",
       "98    제가 똥손이라그런지 모양이예쁘게안나오네요 ㅠㅠ 연습좀해봐야겠습니다.. 제품자체는좋아...\n",
       "99    받자말자 테스트해보니 이쁘게나오는것같은데 단발머리하기에 손에 만이 익혀야될듯싶습니다...\n",
       "Name: review, Length: 100, dtype: object"
      ]
     },
     "execution_count": 36,
     "metadata": {},
     "output_type": "execute_result"
    }
   ],
   "source": [
    "reviews = tmp['review']\n",
    "reviews"
   ]
  },
  {
   "cell_type": "code",
   "execution_count": 37,
   "id": "8f7c10fb",
   "metadata": {},
   "outputs": [],
   "source": [
    "positive_reviews = list()\n",
    "negative_reviews = list()\n",
    "\n",
    "def rate_n_or_p_reviews(reviews) :\n",
    "  for review in reviews :\n",
    "    positive_reviews, negative_reviews = sentiment_predict_NaverShoppingReviews(review)\n",
    "  total = len(positive_reviews)+len(negative_reviews)\n",
    "  print(f\"positive : {len(positive_reviews) / total * 100} % , negative : {len(negative_reviews) / total * 100} % \")"
   ]
  },
  {
   "cell_type": "code",
   "execution_count": 38,
   "id": "d1564b2a",
   "metadata": {
    "scrolled": true
   },
   "outputs": [
    {
     "name": "stdout",
     "output_type": "stream",
     "text": [
      "1/1 [==============================] - 0s 16ms/step\n",
      "1/1 [==============================] - 0s 15ms/step\n",
      "1/1 [==============================] - 0s 15ms/step\n",
      "1/1 [==============================] - 0s 17ms/step\n",
      "1/1 [==============================] - 0s 18ms/step\n",
      "1/1 [==============================] - 0s 16ms/step\n",
      "1/1 [==============================] - 0s 18ms/step\n",
      "1/1 [==============================] - 0s 18ms/step\n",
      "1/1 [==============================] - 0s 17ms/step\n",
      "1/1 [==============================] - 0s 17ms/step\n",
      "1/1 [==============================] - 0s 17ms/step\n",
      "1/1 [==============================] - 0s 15ms/step\n",
      "1/1 [==============================] - 0s 18ms/step\n",
      "1/1 [==============================] - 0s 18ms/step\n",
      "1/1 [==============================] - 0s 17ms/step\n",
      "1/1 [==============================] - 0s 16ms/step\n",
      "1/1 [==============================] - 0s 15ms/step\n",
      "1/1 [==============================] - 0s 17ms/step\n",
      "1/1 [==============================] - 0s 16ms/step\n",
      "1/1 [==============================] - 0s 17ms/step\n",
      "1/1 [==============================] - 0s 18ms/step\n",
      "1/1 [==============================] - 0s 17ms/step\n",
      "1/1 [==============================] - 0s 19ms/step\n",
      "1/1 [==============================] - 0s 20ms/step\n",
      "1/1 [==============================] - 0s 19ms/step\n",
      "1/1 [==============================] - 0s 17ms/step\n",
      "1/1 [==============================] - 0s 17ms/step\n",
      "1/1 [==============================] - 0s 18ms/step\n",
      "1/1 [==============================] - 0s 17ms/step\n",
      "1/1 [==============================] - 0s 17ms/step\n",
      "1/1 [==============================] - 0s 18ms/step\n",
      "1/1 [==============================] - 0s 19ms/step\n",
      "1/1 [==============================] - 0s 18ms/step\n",
      "1/1 [==============================] - 0s 19ms/step\n",
      "1/1 [==============================] - 0s 19ms/step\n",
      "1/1 [==============================] - 0s 16ms/step\n",
      "1/1 [==============================] - 0s 18ms/step\n",
      "1/1 [==============================] - 0s 17ms/step\n",
      "1/1 [==============================] - 0s 17ms/step\n",
      "1/1 [==============================] - 0s 17ms/step\n",
      "1/1 [==============================] - 0s 17ms/step\n",
      "1/1 [==============================] - 0s 17ms/step\n",
      "1/1 [==============================] - 0s 18ms/step\n",
      "1/1 [==============================] - 0s 17ms/step\n",
      "1/1 [==============================] - 0s 16ms/step\n",
      "1/1 [==============================] - 0s 16ms/step\n",
      "1/1 [==============================] - 0s 17ms/step\n",
      "1/1 [==============================] - 0s 17ms/step\n",
      "1/1 [==============================] - 0s 16ms/step\n",
      "1/1 [==============================] - 0s 15ms/step\n",
      "1/1 [==============================] - 0s 16ms/step\n",
      "1/1 [==============================] - 0s 17ms/step\n",
      "1/1 [==============================] - 0s 16ms/step\n",
      "1/1 [==============================] - 0s 17ms/step\n",
      "1/1 [==============================] - 0s 16ms/step\n",
      "1/1 [==============================] - 0s 16ms/step\n",
      "1/1 [==============================] - 0s 17ms/step\n",
      "1/1 [==============================] - 0s 17ms/step\n",
      "1/1 [==============================] - 0s 17ms/step\n",
      "1/1 [==============================] - 0s 17ms/step\n",
      "1/1 [==============================] - 0s 17ms/step\n",
      "1/1 [==============================] - 0s 17ms/step\n",
      "1/1 [==============================] - 0s 17ms/step\n",
      "1/1 [==============================] - 0s 16ms/step\n",
      "1/1 [==============================] - 0s 17ms/step\n",
      "1/1 [==============================] - 0s 17ms/step\n",
      "1/1 [==============================] - 0s 15ms/step\n",
      "1/1 [==============================] - 0s 16ms/step\n",
      "1/1 [==============================] - 0s 18ms/step\n",
      "1/1 [==============================] - 0s 17ms/step\n",
      "1/1 [==============================] - 0s 16ms/step\n",
      "1/1 [==============================] - 0s 18ms/step\n",
      "1/1 [==============================] - 0s 16ms/step\n",
      "1/1 [==============================] - 0s 17ms/step\n",
      "1/1 [==============================] - 0s 15ms/step\n",
      "1/1 [==============================] - 0s 17ms/step\n",
      "1/1 [==============================] - 0s 17ms/step\n",
      "1/1 [==============================] - 0s 16ms/step\n",
      "1/1 [==============================] - 0s 17ms/step\n",
      "1/1 [==============================] - 0s 17ms/step\n",
      "1/1 [==============================] - 0s 16ms/step\n",
      "1/1 [==============================] - 0s 16ms/step\n",
      "1/1 [==============================] - 0s 16ms/step\n",
      "1/1 [==============================] - 0s 17ms/step\n",
      "1/1 [==============================] - 0s 16ms/step\n",
      "1/1 [==============================] - 0s 17ms/step\n",
      "1/1 [==============================] - 0s 15ms/step\n",
      "1/1 [==============================] - 0s 16ms/step\n",
      "1/1 [==============================] - 0s 17ms/step\n",
      "1/1 [==============================] - 0s 16ms/step\n",
      "1/1 [==============================] - 0s 16ms/step\n",
      "1/1 [==============================] - 0s 16ms/step\n",
      "1/1 [==============================] - 0s 16ms/step\n",
      "1/1 [==============================] - 0s 15ms/step\n",
      "1/1 [==============================] - 0s 16ms/step\n",
      "1/1 [==============================] - 0s 16ms/step\n",
      "1/1 [==============================] - 0s 15ms/step\n",
      "1/1 [==============================] - 0s 16ms/step\n",
      "1/1 [==============================] - 0s 16ms/step\n",
      "1/1 [==============================] - 0s 16ms/step\n",
      "positive : 81.0 % , negative : 19.0 % \n"
     ]
    }
   ],
   "source": [
    "rate_n_or_p_reviews(reviews)"
   ]
  },
  {
   "cell_type": "code",
   "execution_count": 43,
   "id": "d4a92080",
   "metadata": {},
   "outputs": [
    {
     "data": {
      "text/plain": [
       "'보다나 고데기 신세계네요. 머리가 깔\\n보다나 고데기 신세계네요. 머리가 깔끔하게 정돈 되면서 굵은 웨이브라서 자연스러워요\\n처음 사용하는거라서 조심스러워서 강하게 안하고 살짝씩만 찝어줘 봤는데 머릿결 손상도 없고 굉장히 자연스러운 연출을 할 수 있어서 좋았답니다.\\n고데기 하고 나서 웨이브 유지되는 시간도 길어서 금방 풀리거나 하지 않는 점이 맘에 들어요\\n여러 굵기중에 이 굵기를 선택하기를 잘 한거 같아요\\n너무 촘촘한 웨이브는 부담스러워서 자연스러운 물결머리를 원했거든요\\n웨이브를 더 굵게 하고 싶으면 고데기 집었던 간견을 멀리 띄우면 더 굵게 되기도 하고 간견을 바짝 붙히면 좀더 촘촘한 웨이브도 연출 할 수 있더라구요\\n저처럼 머리 잘 못 만지는 빠르고 자연스러운 연출을 할 수 있는점이 좋습니다\\n분들은 훨씬 더 예쁠거예요\\n고데기 웨이브 잡는 앞쪽이 두껍다 보니 좀 무게가 있긴하지만 쓸만해요\\n웨이브 위쪽은 뜨거우니까 조심하세요\\n장갑이랑 머리집게도 들어 있어서\\n저는 고데기를 나란히 평면으로 집어줘서 머리결이 전체적으로 같은 물결이 동일하게 나왔지만 고데기를 비스듬하게 해서 열을 가해주면 훨씬더 자연스러운 웨이브를 만들 수도 있네요\\n사진의 ㅡ 노란머리는 고데기로 가볍게 열을 가열해서 바로 찍어 본 사진이에요\\n사진의 ㅡ 검정머리는 정식으로 한건 아니고 전날 저녁에 시범 삼아 가볍게 고데기로 집어줘 봤는데, 하루 자고나면 다 풀릴 줄 알았는데 안풀려서 그대로 외출했어요\\n이사진은 다음날 오후사진이구요. 오른쪽 머리쪽은 아주 살짝 댔다가 뗐더니 좀 약하게 나왔어요.\\n고데기 한 다음날 저녁에 머리 감기 전까지 약간풀리긴 했지만, 웨이브가 잘 유지가 되더라구요\\n당일 웨이브는 진짜 잘 안풀리고 유지됐어요\\n단, 비오는날 습도 높은날은 풀리겠죠\\n고데기 하기전에 에센스 발라서 머릿결 보호 하고 사용하세요. 그럼 머리결어 윤기가 흐르네요\\n고데시 감은머리를 덜 말리고 사용하면 머릿결 상하는건 다 아시죠? 잘 말리시고 사용하세요^^'"
      ]
     },
     "execution_count": 43,
     "metadata": {},
     "output_type": "execute_result"
    }
   ],
   "source": [
    "tmp['review'][0]"
   ]
  },
  {
   "cell_type": "code",
   "execution_count": null,
   "id": "1e39c502",
   "metadata": {},
   "outputs": [],
   "source": []
  }
 ],
 "metadata": {
  "kernelspec": {
   "display_name": "Python 3",
   "language": "python",
   "name": "python3"
  },
  "language_info": {
   "codemirror_mode": {
    "name": "ipython",
    "version": 3
   },
   "file_extension": ".py",
   "mimetype": "text/x-python",
   "name": "python",
   "nbconvert_exporter": "python",
   "pygments_lexer": "ipython3",
   "version": "3.8.13"
  }
 },
 "nbformat": 4,
 "nbformat_minor": 5
}
